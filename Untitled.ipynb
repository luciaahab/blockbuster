{
 "cells": [
  {
   "cell_type": "markdown",
   "id": "aafe2179",
   "metadata": {},
   "source": [
    "## Proceso inicial"
   ]
  },
  {
   "cell_type": "markdown",
   "id": "9186c411",
   "metadata": {},
   "source": [
    "### 🔧 Importar librerías y herramientas"
   ]
  },
  {
   "cell_type": "code",
   "execution_count": null,
   "id": "dcbf2af4",
   "metadata": {},
   "outputs": [],
   "source": []
  },
  {
   "cell_type": "markdown",
   "id": "c002ccfe",
   "metadata": {},
   "source": [
    "### 📩 Leer csv"
   ]
  },
  {
   "cell_type": "code",
   "execution_count": 1,
   "id": "5ee50cc6",
   "metadata": {},
   "outputs": [],
   "source": [
    "import numpy as np\n",
    "import pandas as pd \n",
    "\n",
    "import pylab as plt\n",
    "import seaborn as sns\n",
    "import regex as re\n",
    "\n",
    "%matplotlib inline\n"
   ]
  },
  {
   "cell_type": "code",
   "execution_count": 2,
   "id": "136f12bf",
   "metadata": {},
   "outputs": [
    {
     "name": "stdout",
     "output_type": "stream",
     "text": [
      "(200, 4)\n"
     ]
    },
    {
     "data": {
      "text/html": [
       "<div>\n",
       "<style scoped>\n",
       "    .dataframe tbody tr th:only-of-type {\n",
       "        vertical-align: middle;\n",
       "    }\n",
       "\n",
       "    .dataframe tbody tr th {\n",
       "        vertical-align: top;\n",
       "    }\n",
       "\n",
       "    .dataframe thead th {\n",
       "        text-align: right;\n",
       "    }\n",
       "</style>\n",
       "<table border=\"1\" class=\"dataframe\">\n",
       "  <thead>\n",
       "    <tr style=\"text-align: right;\">\n",
       "      <th></th>\n",
       "      <th>actor_id</th>\n",
       "      <th>first_name</th>\n",
       "      <th>last_name</th>\n",
       "      <th>last_update</th>\n",
       "    </tr>\n",
       "  </thead>\n",
       "  <tbody>\n",
       "    <tr>\n",
       "      <th>0</th>\n",
       "      <td>1</td>\n",
       "      <td>PENELOPE</td>\n",
       "      <td>GUINESS</td>\n",
       "      <td>2006-02-15 04:34:33</td>\n",
       "    </tr>\n",
       "    <tr>\n",
       "      <th>1</th>\n",
       "      <td>2</td>\n",
       "      <td>NICK</td>\n",
       "      <td>WAHLBERG</td>\n",
       "      <td>2006-02-15 04:34:33</td>\n",
       "    </tr>\n",
       "    <tr>\n",
       "      <th>2</th>\n",
       "      <td>3</td>\n",
       "      <td>ED</td>\n",
       "      <td>CHASE</td>\n",
       "      <td>2006-02-15 04:34:33</td>\n",
       "    </tr>\n",
       "    <tr>\n",
       "      <th>3</th>\n",
       "      <td>4</td>\n",
       "      <td>JENNIFER</td>\n",
       "      <td>DAVIS</td>\n",
       "      <td>2006-02-15 04:34:33</td>\n",
       "    </tr>\n",
       "    <tr>\n",
       "      <th>4</th>\n",
       "      <td>5</td>\n",
       "      <td>JOHNNY</td>\n",
       "      <td>LOLLOBRIGIDA</td>\n",
       "      <td>2006-02-15 04:34:33</td>\n",
       "    </tr>\n",
       "  </tbody>\n",
       "</table>\n",
       "</div>"
      ],
      "text/plain": [
       "   actor_id first_name     last_name          last_update\n",
       "0         1   PENELOPE       GUINESS  2006-02-15 04:34:33\n",
       "1         2       NICK      WAHLBERG  2006-02-15 04:34:33\n",
       "2         3         ED         CHASE  2006-02-15 04:34:33\n",
       "3         4   JENNIFER         DAVIS  2006-02-15 04:34:33\n",
       "4         5     JOHNNY  LOLLOBRIGIDA  2006-02-15 04:34:33"
      ]
     },
     "execution_count": 2,
     "metadata": {},
     "output_type": "execute_result"
    }
   ],
   "source": [
    "actors =pd.read_csv('w3-Database-Project-main/data/actor.csv')    #Primero vamos a ver qué hay en los archivos. En los 6\n",
    "                                                                    #Después de la forma, mirar si hay nulos\n",
    "\n",
    "print(actors.shape)\n",
    "actors.head()\n"
   ]
  },
  {
   "cell_type": "code",
   "execution_count": 3,
   "id": "f52c972e",
   "metadata": {},
   "outputs": [
    {
     "name": "stdout",
     "output_type": "stream",
     "text": [
      "<class 'pandas.core.frame.DataFrame'>\n",
      "RangeIndex: 200 entries, 0 to 199\n",
      "Data columns (total 4 columns):\n",
      " #   Column       Non-Null Count  Dtype \n",
      "---  ------       --------------  ----- \n",
      " 0   actor_id     200 non-null    int64 \n",
      " 1   first_name   200 non-null    object\n",
      " 2   last_name    200 non-null    object\n",
      " 3   last_update  200 non-null    object\n",
      "dtypes: int64(1), object(3)\n",
      "memory usage: 41.0 KB\n"
     ]
    }
   ],
   "source": [
    "actors.info(memory_usage='deep')    #no hay nulos"
   ]
  },
  {
   "cell_type": "code",
   "execution_count": 4,
   "id": "e4a1ccbc",
   "metadata": {},
   "outputs": [
    {
     "name": "stdout",
     "output_type": "stream",
     "text": [
      "(16, 3)\n"
     ]
    },
    {
     "data": {
      "text/html": [
       "<div>\n",
       "<style scoped>\n",
       "    .dataframe tbody tr th:only-of-type {\n",
       "        vertical-align: middle;\n",
       "    }\n",
       "\n",
       "    .dataframe tbody tr th {\n",
       "        vertical-align: top;\n",
       "    }\n",
       "\n",
       "    .dataframe thead th {\n",
       "        text-align: right;\n",
       "    }\n",
       "</style>\n",
       "<table border=\"1\" class=\"dataframe\">\n",
       "  <thead>\n",
       "    <tr style=\"text-align: right;\">\n",
       "      <th></th>\n",
       "      <th>category_id</th>\n",
       "      <th>name</th>\n",
       "      <th>last_update</th>\n",
       "    </tr>\n",
       "  </thead>\n",
       "  <tbody>\n",
       "    <tr>\n",
       "      <th>0</th>\n",
       "      <td>1</td>\n",
       "      <td>Action</td>\n",
       "      <td>2006-02-15 04:46:27</td>\n",
       "    </tr>\n",
       "    <tr>\n",
       "      <th>1</th>\n",
       "      <td>2</td>\n",
       "      <td>Animation</td>\n",
       "      <td>2006-02-15 04:46:27</td>\n",
       "    </tr>\n",
       "    <tr>\n",
       "      <th>2</th>\n",
       "      <td>3</td>\n",
       "      <td>Children</td>\n",
       "      <td>2006-02-15 04:46:27</td>\n",
       "    </tr>\n",
       "    <tr>\n",
       "      <th>3</th>\n",
       "      <td>4</td>\n",
       "      <td>Classics</td>\n",
       "      <td>2006-02-15 04:46:27</td>\n",
       "    </tr>\n",
       "    <tr>\n",
       "      <th>4</th>\n",
       "      <td>5</td>\n",
       "      <td>Comedy</td>\n",
       "      <td>2006-02-15 04:46:27</td>\n",
       "    </tr>\n",
       "  </tbody>\n",
       "</table>\n",
       "</div>"
      ],
      "text/plain": [
       "   category_id       name          last_update\n",
       "0            1     Action  2006-02-15 04:46:27\n",
       "1            2  Animation  2006-02-15 04:46:27\n",
       "2            3   Children  2006-02-15 04:46:27\n",
       "3            4   Classics  2006-02-15 04:46:27\n",
       "4            5     Comedy  2006-02-15 04:46:27"
      ]
     },
     "execution_count": 4,
     "metadata": {},
     "output_type": "execute_result"
    }
   ],
   "source": [
    "categ=pd.read_csv('w3-Database-Project-main/data/category.csv')    \n",
    "\n",
    "print(categ.shape)\n",
    "categ.head()\n"
   ]
  },
  {
   "cell_type": "code",
   "execution_count": 5,
   "id": "759cd9b8",
   "metadata": {},
   "outputs": [
    {
     "name": "stdout",
     "output_type": "stream",
     "text": [
      "<class 'pandas.core.frame.DataFrame'>\n",
      "RangeIndex: 16 entries, 0 to 15\n",
      "Data columns (total 3 columns):\n",
      " #   Column       Non-Null Count  Dtype \n",
      "---  ------       --------------  ----- \n",
      " 0   category_id  16 non-null     int64 \n",
      " 1   name         16 non-null     object\n",
      " 2   last_update  16 non-null     object\n",
      "dtypes: int64(1), object(2)\n",
      "memory usage: 2.4 KB\n"
     ]
    }
   ],
   "source": [
    "categ.info(memory_usage='deep')    #no hay nulos"
   ]
  },
  {
   "cell_type": "code",
   "execution_count": 6,
   "id": "44fee016",
   "metadata": {},
   "outputs": [
    {
     "name": "stdout",
     "output_type": "stream",
     "text": [
      "(1000, 13)\n"
     ]
    },
    {
     "data": {
      "text/html": [
       "<div>\n",
       "<style scoped>\n",
       "    .dataframe tbody tr th:only-of-type {\n",
       "        vertical-align: middle;\n",
       "    }\n",
       "\n",
       "    .dataframe tbody tr th {\n",
       "        vertical-align: top;\n",
       "    }\n",
       "\n",
       "    .dataframe thead th {\n",
       "        text-align: right;\n",
       "    }\n",
       "</style>\n",
       "<table border=\"1\" class=\"dataframe\">\n",
       "  <thead>\n",
       "    <tr style=\"text-align: right;\">\n",
       "      <th></th>\n",
       "      <th>film_id</th>\n",
       "      <th>title</th>\n",
       "      <th>description</th>\n",
       "      <th>release_year</th>\n",
       "      <th>language_id</th>\n",
       "      <th>original_language_id</th>\n",
       "      <th>rental_duration</th>\n",
       "      <th>rental_rate</th>\n",
       "      <th>length</th>\n",
       "      <th>replacement_cost</th>\n",
       "      <th>rating</th>\n",
       "      <th>special_features</th>\n",
       "      <th>last_update</th>\n",
       "    </tr>\n",
       "  </thead>\n",
       "  <tbody>\n",
       "    <tr>\n",
       "      <th>0</th>\n",
       "      <td>1</td>\n",
       "      <td>ACADEMY DINOSAUR</td>\n",
       "      <td>A Epic Drama of a Feminist And a Mad Scientist...</td>\n",
       "      <td>2006</td>\n",
       "      <td>1</td>\n",
       "      <td>NaN</td>\n",
       "      <td>6</td>\n",
       "      <td>0.99</td>\n",
       "      <td>86</td>\n",
       "      <td>20.99</td>\n",
       "      <td>PG</td>\n",
       "      <td>Deleted Scenes,Behind the Scenes</td>\n",
       "      <td>2006-02-15 05:03:42</td>\n",
       "    </tr>\n",
       "    <tr>\n",
       "      <th>1</th>\n",
       "      <td>2</td>\n",
       "      <td>ACE GOLDFINGER</td>\n",
       "      <td>A Astounding Epistle of a Database Administrat...</td>\n",
       "      <td>2006</td>\n",
       "      <td>1</td>\n",
       "      <td>NaN</td>\n",
       "      <td>3</td>\n",
       "      <td>4.99</td>\n",
       "      <td>48</td>\n",
       "      <td>12.99</td>\n",
       "      <td>G</td>\n",
       "      <td>Trailers,Deleted Scenes</td>\n",
       "      <td>2006-02-15 05:03:42</td>\n",
       "    </tr>\n",
       "    <tr>\n",
       "      <th>2</th>\n",
       "      <td>3</td>\n",
       "      <td>ADAPTATION HOLES</td>\n",
       "      <td>A Astounding Reflection of a Lumberjack And a ...</td>\n",
       "      <td>2006</td>\n",
       "      <td>1</td>\n",
       "      <td>NaN</td>\n",
       "      <td>7</td>\n",
       "      <td>2.99</td>\n",
       "      <td>50</td>\n",
       "      <td>18.99</td>\n",
       "      <td>NC-17</td>\n",
       "      <td>Trailers,Deleted Scenes</td>\n",
       "      <td>2006-02-15 05:03:42</td>\n",
       "    </tr>\n",
       "    <tr>\n",
       "      <th>3</th>\n",
       "      <td>4</td>\n",
       "      <td>AFFAIR PREJUDICE</td>\n",
       "      <td>A Fanciful Documentary of a Frisbee And a Lumb...</td>\n",
       "      <td>2006</td>\n",
       "      <td>1</td>\n",
       "      <td>NaN</td>\n",
       "      <td>5</td>\n",
       "      <td>2.99</td>\n",
       "      <td>117</td>\n",
       "      <td>26.99</td>\n",
       "      <td>G</td>\n",
       "      <td>Commentaries,Behind the Scenes</td>\n",
       "      <td>2006-02-15 05:03:42</td>\n",
       "    </tr>\n",
       "    <tr>\n",
       "      <th>4</th>\n",
       "      <td>5</td>\n",
       "      <td>AFRICAN EGG</td>\n",
       "      <td>A Fast-Paced Documentary of a Pastry Chef And ...</td>\n",
       "      <td>2006</td>\n",
       "      <td>1</td>\n",
       "      <td>NaN</td>\n",
       "      <td>6</td>\n",
       "      <td>2.99</td>\n",
       "      <td>130</td>\n",
       "      <td>22.99</td>\n",
       "      <td>G</td>\n",
       "      <td>Deleted Scenes</td>\n",
       "      <td>2006-02-15 05:03:42</td>\n",
       "    </tr>\n",
       "  </tbody>\n",
       "</table>\n",
       "</div>"
      ],
      "text/plain": [
       "   film_id             title  \\\n",
       "0        1  ACADEMY DINOSAUR   \n",
       "1        2    ACE GOLDFINGER   \n",
       "2        3  ADAPTATION HOLES   \n",
       "3        4  AFFAIR PREJUDICE   \n",
       "4        5       AFRICAN EGG   \n",
       "\n",
       "                                         description  release_year  \\\n",
       "0  A Epic Drama of a Feminist And a Mad Scientist...          2006   \n",
       "1  A Astounding Epistle of a Database Administrat...          2006   \n",
       "2  A Astounding Reflection of a Lumberjack And a ...          2006   \n",
       "3  A Fanciful Documentary of a Frisbee And a Lumb...          2006   \n",
       "4  A Fast-Paced Documentary of a Pastry Chef And ...          2006   \n",
       "\n",
       "   language_id  original_language_id  rental_duration  rental_rate  length  \\\n",
       "0            1                   NaN                6         0.99      86   \n",
       "1            1                   NaN                3         4.99      48   \n",
       "2            1                   NaN                7         2.99      50   \n",
       "3            1                   NaN                5         2.99     117   \n",
       "4            1                   NaN                6         2.99     130   \n",
       "\n",
       "   replacement_cost rating                  special_features  \\\n",
       "0             20.99     PG  Deleted Scenes,Behind the Scenes   \n",
       "1             12.99      G           Trailers,Deleted Scenes   \n",
       "2             18.99  NC-17           Trailers,Deleted Scenes   \n",
       "3             26.99      G    Commentaries,Behind the Scenes   \n",
       "4             22.99      G                    Deleted Scenes   \n",
       "\n",
       "           last_update  \n",
       "0  2006-02-15 05:03:42  \n",
       "1  2006-02-15 05:03:42  \n",
       "2  2006-02-15 05:03:42  \n",
       "3  2006-02-15 05:03:42  \n",
       "4  2006-02-15 05:03:42  "
      ]
     },
     "execution_count": 6,
     "metadata": {},
     "output_type": "execute_result"
    }
   ],
   "source": [
    "films=pd.read_csv('w3-Database-Project-main/data/film.csv')    #Primero vamos a ver qué hay en los archivos. En los 6\n",
    "\n",
    "print(films.shape)\n",
    "films.head()\n"
   ]
  },
  {
   "cell_type": "code",
   "execution_count": 7,
   "id": "979e1d49",
   "metadata": {},
   "outputs": [
    {
     "name": "stdout",
     "output_type": "stream",
     "text": [
      "<class 'pandas.core.frame.DataFrame'>\n",
      "RangeIndex: 1000 entries, 0 to 999\n",
      "Data columns (total 13 columns):\n",
      " #   Column                Non-Null Count  Dtype  \n",
      "---  ------                --------------  -----  \n",
      " 0   film_id               1000 non-null   int64  \n",
      " 1   title                 1000 non-null   object \n",
      " 2   description           1000 non-null   object \n",
      " 3   release_year          1000 non-null   int64  \n",
      " 4   language_id           1000 non-null   int64  \n",
      " 5   original_language_id  0 non-null      float64\n",
      " 6   rental_duration       1000 non-null   int64  \n",
      " 7   rental_rate           1000 non-null   float64\n",
      " 8   length                1000 non-null   int64  \n",
      " 9   replacement_cost      1000 non-null   float64\n",
      " 10  rating                1000 non-null   object \n",
      " 11  special_features      1000 non-null   object \n",
      " 12  last_update           1000 non-null   object \n",
      "dtypes: float64(3), int64(5), object(5)\n",
      "memory usage: 495.3 KB\n"
     ]
    }
   ],
   "source": [
    "films.info(memory_usage='deep')    #no hay nulos"
   ]
  },
  {
   "cell_type": "code",
   "execution_count": 8,
   "id": "7e59b16a",
   "metadata": {},
   "outputs": [
    {
     "name": "stdout",
     "output_type": "stream",
     "text": [
      "(1000, 4)\n"
     ]
    },
    {
     "data": {
      "text/html": [
       "<div>\n",
       "<style scoped>\n",
       "    .dataframe tbody tr th:only-of-type {\n",
       "        vertical-align: middle;\n",
       "    }\n",
       "\n",
       "    .dataframe tbody tr th {\n",
       "        vertical-align: top;\n",
       "    }\n",
       "\n",
       "    .dataframe thead th {\n",
       "        text-align: right;\n",
       "    }\n",
       "</style>\n",
       "<table border=\"1\" class=\"dataframe\">\n",
       "  <thead>\n",
       "    <tr style=\"text-align: right;\">\n",
       "      <th></th>\n",
       "      <th>inventory_id</th>\n",
       "      <th>film_id</th>\n",
       "      <th>store_id</th>\n",
       "      <th>last_update</th>\n",
       "    </tr>\n",
       "  </thead>\n",
       "  <tbody>\n",
       "    <tr>\n",
       "      <th>0</th>\n",
       "      <td>1</td>\n",
       "      <td>1</td>\n",
       "      <td>1</td>\n",
       "      <td>2006-02-15 05:09:17</td>\n",
       "    </tr>\n",
       "    <tr>\n",
       "      <th>1</th>\n",
       "      <td>2</td>\n",
       "      <td>1</td>\n",
       "      <td>1</td>\n",
       "      <td>2006-02-15 05:09:17</td>\n",
       "    </tr>\n",
       "    <tr>\n",
       "      <th>2</th>\n",
       "      <td>3</td>\n",
       "      <td>1</td>\n",
       "      <td>1</td>\n",
       "      <td>2006-02-15 05:09:17</td>\n",
       "    </tr>\n",
       "    <tr>\n",
       "      <th>3</th>\n",
       "      <td>4</td>\n",
       "      <td>1</td>\n",
       "      <td>1</td>\n",
       "      <td>2006-02-15 05:09:17</td>\n",
       "    </tr>\n",
       "    <tr>\n",
       "      <th>4</th>\n",
       "      <td>5</td>\n",
       "      <td>1</td>\n",
       "      <td>2</td>\n",
       "      <td>2006-02-15 05:09:17</td>\n",
       "    </tr>\n",
       "  </tbody>\n",
       "</table>\n",
       "</div>"
      ],
      "text/plain": [
       "   inventory_id  film_id  store_id          last_update\n",
       "0             1        1         1  2006-02-15 05:09:17\n",
       "1             2        1         1  2006-02-15 05:09:17\n",
       "2             3        1         1  2006-02-15 05:09:17\n",
       "3             4        1         1  2006-02-15 05:09:17\n",
       "4             5        1         2  2006-02-15 05:09:17"
      ]
     },
     "execution_count": 8,
     "metadata": {},
     "output_type": "execute_result"
    }
   ],
   "source": [
    "invent=pd.read_csv('w3-Database-Project-main/data/inventory.csv')    #Primero vamos a ver qué hay en los archivos. En los 6\n",
    "\n",
    "print(invent.shape)\n",
    "invent.head()\n"
   ]
  },
  {
   "cell_type": "code",
   "execution_count": 9,
   "id": "50fda63c",
   "metadata": {},
   "outputs": [
    {
     "name": "stdout",
     "output_type": "stream",
     "text": [
      "<class 'pandas.core.frame.DataFrame'>\n",
      "RangeIndex: 1000 entries, 0 to 999\n",
      "Data columns (total 4 columns):\n",
      " #   Column        Non-Null Count  Dtype \n",
      "---  ------        --------------  ----- \n",
      " 0   inventory_id  1000 non-null   int64 \n",
      " 1   film_id       1000 non-null   int64 \n",
      " 2   store_id      1000 non-null   int64 \n",
      " 3   last_update   1000 non-null   object\n",
      "dtypes: int64(3), object(1)\n",
      "memory usage: 97.8 KB\n"
     ]
    }
   ],
   "source": [
    "invent.info(memory_usage='deep')"
   ]
  },
  {
   "cell_type": "code",
   "execution_count": 10,
   "id": "363ca808",
   "metadata": {},
   "outputs": [
    {
     "name": "stdout",
     "output_type": "stream",
     "text": [
      "(6, 3)\n"
     ]
    },
    {
     "data": {
      "text/html": [
       "<div>\n",
       "<style scoped>\n",
       "    .dataframe tbody tr th:only-of-type {\n",
       "        vertical-align: middle;\n",
       "    }\n",
       "\n",
       "    .dataframe tbody tr th {\n",
       "        vertical-align: top;\n",
       "    }\n",
       "\n",
       "    .dataframe thead th {\n",
       "        text-align: right;\n",
       "    }\n",
       "</style>\n",
       "<table border=\"1\" class=\"dataframe\">\n",
       "  <thead>\n",
       "    <tr style=\"text-align: right;\">\n",
       "      <th></th>\n",
       "      <th>language_id</th>\n",
       "      <th>name</th>\n",
       "      <th>last_update</th>\n",
       "    </tr>\n",
       "  </thead>\n",
       "  <tbody>\n",
       "    <tr>\n",
       "      <th>0</th>\n",
       "      <td>1</td>\n",
       "      <td>English</td>\n",
       "      <td>2006-02-15 05:02:19</td>\n",
       "    </tr>\n",
       "    <tr>\n",
       "      <th>1</th>\n",
       "      <td>2</td>\n",
       "      <td>Italian</td>\n",
       "      <td>2006-02-15 05:02:19</td>\n",
       "    </tr>\n",
       "    <tr>\n",
       "      <th>2</th>\n",
       "      <td>3</td>\n",
       "      <td>Japanese</td>\n",
       "      <td>2006-02-15 05:02:19</td>\n",
       "    </tr>\n",
       "    <tr>\n",
       "      <th>3</th>\n",
       "      <td>4</td>\n",
       "      <td>Mandarin</td>\n",
       "      <td>2006-02-15 05:02:19</td>\n",
       "    </tr>\n",
       "    <tr>\n",
       "      <th>4</th>\n",
       "      <td>5</td>\n",
       "      <td>French</td>\n",
       "      <td>2006-02-15 05:02:19</td>\n",
       "    </tr>\n",
       "  </tbody>\n",
       "</table>\n",
       "</div>"
      ],
      "text/plain": [
       "   language_id      name          last_update\n",
       "0            1   English  2006-02-15 05:02:19\n",
       "1            2   Italian  2006-02-15 05:02:19\n",
       "2            3  Japanese  2006-02-15 05:02:19\n",
       "3            4  Mandarin  2006-02-15 05:02:19\n",
       "4            5    French  2006-02-15 05:02:19"
      ]
     },
     "execution_count": 10,
     "metadata": {},
     "output_type": "execute_result"
    }
   ],
   "source": [
    "lang=pd.read_csv('w3-Database-Project-main/data/language.csv')    #Primero vamos a ver qué hay en los archivos. En los 6\n",
    "\n",
    "print(lang.shape)\n",
    "lang.head()\n"
   ]
  },
  {
   "cell_type": "code",
   "execution_count": 11,
   "id": "a59a86df",
   "metadata": {},
   "outputs": [
    {
     "name": "stdout",
     "output_type": "stream",
     "text": [
      "<class 'pandas.core.frame.DataFrame'>\n",
      "RangeIndex: 6 entries, 0 to 5\n",
      "Data columns (total 3 columns):\n",
      " #   Column       Non-Null Count  Dtype \n",
      "---  ------       --------------  ----- \n",
      " 0   language_id  6 non-null      int64 \n",
      " 1   name         6 non-null      object\n",
      " 2   last_update  6 non-null      object\n",
      "dtypes: int64(1), object(2)\n",
      "memory usage: 1016.0 bytes\n"
     ]
    }
   ],
   "source": [
    "lang.info(memory_usage='deep')"
   ]
  },
  {
   "cell_type": "code",
   "execution_count": 12,
   "id": "7a63a453",
   "metadata": {},
   "outputs": [
    {
     "name": "stdout",
     "output_type": "stream",
     "text": [
      "(1000, 5)\n"
     ]
    },
    {
     "data": {
      "text/html": [
       "<div>\n",
       "<style scoped>\n",
       "    .dataframe tbody tr th:only-of-type {\n",
       "        vertical-align: middle;\n",
       "    }\n",
       "\n",
       "    .dataframe tbody tr th {\n",
       "        vertical-align: top;\n",
       "    }\n",
       "\n",
       "    .dataframe thead th {\n",
       "        text-align: right;\n",
       "    }\n",
       "</style>\n",
       "<table border=\"1\" class=\"dataframe\">\n",
       "  <thead>\n",
       "    <tr style=\"text-align: right;\">\n",
       "      <th></th>\n",
       "      <th>first_name</th>\n",
       "      <th>last_name</th>\n",
       "      <th>title</th>\n",
       "      <th>release_year</th>\n",
       "      <th>category_id</th>\n",
       "    </tr>\n",
       "  </thead>\n",
       "  <tbody>\n",
       "    <tr>\n",
       "      <th>0</th>\n",
       "      <td>PENELOPE</td>\n",
       "      <td>GUINESS</td>\n",
       "      <td>ACADEMY DINOSAUR</td>\n",
       "      <td>2006</td>\n",
       "      <td>6</td>\n",
       "    </tr>\n",
       "    <tr>\n",
       "      <th>1</th>\n",
       "      <td>PENELOPE</td>\n",
       "      <td>GUINESS</td>\n",
       "      <td>ANACONDA CONFESSIONS</td>\n",
       "      <td>2006</td>\n",
       "      <td>2</td>\n",
       "    </tr>\n",
       "    <tr>\n",
       "      <th>2</th>\n",
       "      <td>PENELOPE</td>\n",
       "      <td>GUINESS</td>\n",
       "      <td>ANGELS LIFE</td>\n",
       "      <td>2006</td>\n",
       "      <td>13</td>\n",
       "    </tr>\n",
       "    <tr>\n",
       "      <th>3</th>\n",
       "      <td>PENELOPE</td>\n",
       "      <td>GUINESS</td>\n",
       "      <td>BULWORTH COMMANDMENTS</td>\n",
       "      <td>2006</td>\n",
       "      <td>10</td>\n",
       "    </tr>\n",
       "    <tr>\n",
       "      <th>4</th>\n",
       "      <td>PENELOPE</td>\n",
       "      <td>GUINESS</td>\n",
       "      <td>CHEAPER CLYDE</td>\n",
       "      <td>2006</td>\n",
       "      <td>14</td>\n",
       "    </tr>\n",
       "  </tbody>\n",
       "</table>\n",
       "</div>"
      ],
      "text/plain": [
       "  first_name last_name                  title  release_year  category_id\n",
       "0   PENELOPE   GUINESS       ACADEMY DINOSAUR          2006            6\n",
       "1   PENELOPE   GUINESS   ANACONDA CONFESSIONS          2006            2\n",
       "2   PENELOPE   GUINESS            ANGELS LIFE          2006           13\n",
       "3   PENELOPE   GUINESS  BULWORTH COMMANDMENTS          2006           10\n",
       "4   PENELOPE   GUINESS          CHEAPER CLYDE          2006           14"
      ]
     },
     "execution_count": 12,
     "metadata": {},
     "output_type": "execute_result"
    }
   ],
   "source": [
    "old_HDD=pd.read_csv('w3-Database-Project-main/data/old_HDD.csv')    #Primero vamos a ver qué hay en los archivos. En los 6\n",
    "\n",
    "print(old_HDD.shape)\n",
    "old_HDD.head()\n"
   ]
  },
  {
   "cell_type": "code",
   "execution_count": 13,
   "id": "59f65ed5",
   "metadata": {},
   "outputs": [
    {
     "name": "stdout",
     "output_type": "stream",
     "text": [
      "<class 'pandas.core.frame.DataFrame'>\n",
      "RangeIndex: 1000 entries, 0 to 999\n",
      "Data columns (total 5 columns):\n",
      " #   Column        Non-Null Count  Dtype \n",
      "---  ------        --------------  ----- \n",
      " 0   first_name    1000 non-null   object\n",
      " 1   last_name     1000 non-null   object\n",
      " 2   title         1000 non-null   object\n",
      " 3   release_year  1000 non-null   int64 \n",
      " 4   category_id   1000 non-null   int64 \n",
      "dtypes: int64(2), object(3)\n",
      "memory usage: 207.6 KB\n"
     ]
    }
   ],
   "source": [
    "old_HDD.info(memory_usage='deep')"
   ]
  },
  {
   "cell_type": "code",
   "execution_count": 14,
   "id": "0092b2aa",
   "metadata": {},
   "outputs": [
    {
     "name": "stdout",
     "output_type": "stream",
     "text": [
      "(1000, 7)\n"
     ]
    },
    {
     "data": {
      "text/html": [
       "<div>\n",
       "<style scoped>\n",
       "    .dataframe tbody tr th:only-of-type {\n",
       "        vertical-align: middle;\n",
       "    }\n",
       "\n",
       "    .dataframe tbody tr th {\n",
       "        vertical-align: top;\n",
       "    }\n",
       "\n",
       "    .dataframe thead th {\n",
       "        text-align: right;\n",
       "    }\n",
       "</style>\n",
       "<table border=\"1\" class=\"dataframe\">\n",
       "  <thead>\n",
       "    <tr style=\"text-align: right;\">\n",
       "      <th></th>\n",
       "      <th>rental_id</th>\n",
       "      <th>rental_date</th>\n",
       "      <th>inventory_id</th>\n",
       "      <th>customer_id</th>\n",
       "      <th>return_date</th>\n",
       "      <th>staff_id</th>\n",
       "      <th>last_update</th>\n",
       "    </tr>\n",
       "  </thead>\n",
       "  <tbody>\n",
       "    <tr>\n",
       "      <th>0</th>\n",
       "      <td>1</td>\n",
       "      <td>2005-05-24 22:53:30</td>\n",
       "      <td>367</td>\n",
       "      <td>130</td>\n",
       "      <td>2005-05-26 22:04:30</td>\n",
       "      <td>1</td>\n",
       "      <td>2006-02-15 21:30:53</td>\n",
       "    </tr>\n",
       "    <tr>\n",
       "      <th>1</th>\n",
       "      <td>2</td>\n",
       "      <td>2005-05-24 22:54:33</td>\n",
       "      <td>1525</td>\n",
       "      <td>459</td>\n",
       "      <td>2005-05-28 19:40:33</td>\n",
       "      <td>1</td>\n",
       "      <td>2006-02-15 21:30:53</td>\n",
       "    </tr>\n",
       "    <tr>\n",
       "      <th>2</th>\n",
       "      <td>3</td>\n",
       "      <td>2005-05-24 23:03:39</td>\n",
       "      <td>1711</td>\n",
       "      <td>408</td>\n",
       "      <td>2005-06-01 22:12:39</td>\n",
       "      <td>1</td>\n",
       "      <td>2006-02-15 21:30:53</td>\n",
       "    </tr>\n",
       "    <tr>\n",
       "      <th>3</th>\n",
       "      <td>4</td>\n",
       "      <td>2005-05-24 23:04:41</td>\n",
       "      <td>2452</td>\n",
       "      <td>333</td>\n",
       "      <td>2005-06-03 01:43:41</td>\n",
       "      <td>2</td>\n",
       "      <td>2006-02-15 21:30:53</td>\n",
       "    </tr>\n",
       "    <tr>\n",
       "      <th>4</th>\n",
       "      <td>5</td>\n",
       "      <td>2005-05-24 23:05:21</td>\n",
       "      <td>2079</td>\n",
       "      <td>222</td>\n",
       "      <td>2005-06-02 04:33:21</td>\n",
       "      <td>1</td>\n",
       "      <td>2006-02-15 21:30:53</td>\n",
       "    </tr>\n",
       "  </tbody>\n",
       "</table>\n",
       "</div>"
      ],
      "text/plain": [
       "   rental_id          rental_date  inventory_id  customer_id  \\\n",
       "0          1  2005-05-24 22:53:30           367          130   \n",
       "1          2  2005-05-24 22:54:33          1525          459   \n",
       "2          3  2005-05-24 23:03:39          1711          408   \n",
       "3          4  2005-05-24 23:04:41          2452          333   \n",
       "4          5  2005-05-24 23:05:21          2079          222   \n",
       "\n",
       "           return_date  staff_id          last_update  \n",
       "0  2005-05-26 22:04:30         1  2006-02-15 21:30:53  \n",
       "1  2005-05-28 19:40:33         1  2006-02-15 21:30:53  \n",
       "2  2005-06-01 22:12:39         1  2006-02-15 21:30:53  \n",
       "3  2005-06-03 01:43:41         2  2006-02-15 21:30:53  \n",
       "4  2005-06-02 04:33:21         1  2006-02-15 21:30:53  "
      ]
     },
     "execution_count": 14,
     "metadata": {},
     "output_type": "execute_result"
    }
   ],
   "source": [
    "rental=pd.read_csv('w3-Database-Project-main/data/rental.csv')    #Primero vamos a ver qué hay en los archivos. En los 6\n",
    "\n",
    "print(rental.shape)\n",
    "rental.head()\n"
   ]
  },
  {
   "cell_type": "code",
   "execution_count": 15,
   "id": "b77bc57b",
   "metadata": {},
   "outputs": [
    {
     "name": "stdout",
     "output_type": "stream",
     "text": [
      "<class 'pandas.core.frame.DataFrame'>\n",
      "RangeIndex: 1000 entries, 0 to 999\n",
      "Data columns (total 7 columns):\n",
      " #   Column        Non-Null Count  Dtype \n",
      "---  ------        --------------  ----- \n",
      " 0   rental_id     1000 non-null   int64 \n",
      " 1   rental_date   1000 non-null   object\n",
      " 2   inventory_id  1000 non-null   int64 \n",
      " 3   customer_id   1000 non-null   int64 \n",
      " 4   return_date   1000 non-null   object\n",
      " 5   staff_id      1000 non-null   int64 \n",
      " 6   last_update   1000 non-null   object\n",
      "dtypes: int64(4), object(3)\n",
      "memory usage: 254.0 KB\n"
     ]
    }
   ],
   "source": [
    "rental.info(memory_usage='deep')"
   ]
  },
  {
   "cell_type": "markdown",
   "id": "c50156c7",
   "metadata": {},
   "source": [
    "### como las tablas están limpias las conectamos con MySQL"
   ]
  },
  {
   "cell_type": "code",
   "execution_count": 16,
   "id": "0c72ed61",
   "metadata": {},
   "outputs": [
    {
     "name": "stdout",
     "output_type": "stream",
     "text": [
      "Requirement already satisfied: mysql-connector-python in /Users/lucia/opt/anaconda3/lib/python3.9/site-packages (8.0.29)\r\n",
      "Requirement already satisfied: protobuf>=3.0.0 in /Users/lucia/opt/anaconda3/lib/python3.9/site-packages (from mysql-connector-python) (4.21.1)\r\n"
     ]
    }
   ],
   "source": [
    "!pip install mysql-connector-python"
   ]
  },
  {
   "cell_type": "code",
   "execution_count": 17,
   "id": "f7b7a17d",
   "metadata": {},
   "outputs": [],
   "source": [
    "import mysql.connector as conn"
   ]
  },
  {
   "cell_type": "markdown",
   "id": "6a25ba1b",
   "metadata": {},
   "source": [
    "### 🧳 Crear la BD"
   ]
  },
  {
   "cell_type": "code",
   "execution_count": 18,
   "id": "74b57f69",
   "metadata": {},
   "outputs": [],
   "source": [
    "crea_db=conn.connect(host='localhost', user='root', passwd='Verano20')    #No sirve\n",
    "\n",
    "cursor=crea_db.cursor()\n",
    "\n",
    "cursor.execute('drop database if exists productos;')\n"
   ]
  },
  {
   "cell_type": "code",
   "execution_count": 19,
   "id": "aca09655",
   "metadata": {},
   "outputs": [
    {
     "ename": "DatabaseError",
     "evalue": "1007 (HY000): Can't create database 'Blockbuster'; database exists",
     "output_type": "error",
     "traceback": [
      "\u001b[0;31m---------------------------------------------------------------------------\u001b[0m",
      "\u001b[0;31mDatabaseError\u001b[0m                             Traceback (most recent call last)",
      "\u001b[0;32m/var/folders/bp/5cqvvvwn7p14588p725frs740000gn/T/ipykernel_38206/2116058996.py\u001b[0m in \u001b[0;36m<module>\u001b[0;34m\u001b[0m\n\u001b[1;32m      2\u001b[0m \u001b[0;34m\u001b[0m\u001b[0m\n\u001b[1;32m      3\u001b[0m \u001b[0mcursor\u001b[0m\u001b[0;34m=\u001b[0m\u001b[0mcrea_db\u001b[0m\u001b[0;34m.\u001b[0m\u001b[0mcursor\u001b[0m\u001b[0;34m(\u001b[0m\u001b[0;34m)\u001b[0m\u001b[0;34m\u001b[0m\u001b[0;34m\u001b[0m\u001b[0m\n\u001b[0;32m----> 4\u001b[0;31m \u001b[0mcursor\u001b[0m\u001b[0;34m.\u001b[0m\u001b[0mexecute\u001b[0m\u001b[0;34m(\u001b[0m\u001b[0;34m'create database Blockbuster;'\u001b[0m\u001b[0;34m)\u001b[0m\u001b[0;34m\u001b[0m\u001b[0;34m\u001b[0m\u001b[0m\n\u001b[0m",
      "\u001b[0;32m~/opt/anaconda3/lib/python3.9/site-packages/mysql/connector/cursor.py\u001b[0m in \u001b[0;36mexecute\u001b[0;34m(self, operation, params, multi)\u001b[0m\n\u001b[1;32m    570\u001b[0m \u001b[0;34m\u001b[0m\u001b[0m\n\u001b[1;32m    571\u001b[0m         \u001b[0;32mtry\u001b[0m\u001b[0;34m:\u001b[0m\u001b[0;34m\u001b[0m\u001b[0;34m\u001b[0m\u001b[0m\n\u001b[0;32m--> 572\u001b[0;31m             \u001b[0mself\u001b[0m\u001b[0;34m.\u001b[0m\u001b[0m_handle_result\u001b[0m\u001b[0;34m(\u001b[0m\u001b[0mself\u001b[0m\u001b[0;34m.\u001b[0m\u001b[0m_connection\u001b[0m\u001b[0;34m.\u001b[0m\u001b[0mcmd_query\u001b[0m\u001b[0;34m(\u001b[0m\u001b[0mstmt\u001b[0m\u001b[0;34m)\u001b[0m\u001b[0;34m)\u001b[0m\u001b[0;34m\u001b[0m\u001b[0;34m\u001b[0m\u001b[0m\n\u001b[0m\u001b[1;32m    573\u001b[0m         \u001b[0;32mexcept\u001b[0m \u001b[0merrors\u001b[0m\u001b[0;34m.\u001b[0m\u001b[0mInterfaceError\u001b[0m\u001b[0;34m:\u001b[0m\u001b[0;34m\u001b[0m\u001b[0;34m\u001b[0m\u001b[0m\n\u001b[1;32m    574\u001b[0m             \u001b[0;32mif\u001b[0m \u001b[0mself\u001b[0m\u001b[0;34m.\u001b[0m\u001b[0m_connection\u001b[0m\u001b[0;34m.\u001b[0m\u001b[0m_have_next_result\u001b[0m\u001b[0;34m:\u001b[0m  \u001b[0;31m# pylint: disable=W0212\u001b[0m\u001b[0;34m\u001b[0m\u001b[0;34m\u001b[0m\u001b[0m\n",
      "\u001b[0;32m~/opt/anaconda3/lib/python3.9/site-packages/mysql/connector/connection.py\u001b[0m in \u001b[0;36mcmd_query\u001b[0;34m(self, query, raw, buffered, raw_as_string)\u001b[0m\n\u001b[1;32m    920\u001b[0m         \u001b[0mquery\u001b[0m \u001b[0;34m=\u001b[0m \u001b[0mbytes\u001b[0m\u001b[0;34m(\u001b[0m\u001b[0mpacket\u001b[0m\u001b[0;34m)\u001b[0m\u001b[0;34m\u001b[0m\u001b[0;34m\u001b[0m\u001b[0m\n\u001b[1;32m    921\u001b[0m         \u001b[0;32mtry\u001b[0m\u001b[0;34m:\u001b[0m\u001b[0;34m\u001b[0m\u001b[0;34m\u001b[0m\u001b[0m\n\u001b[0;32m--> 922\u001b[0;31m             \u001b[0mresult\u001b[0m \u001b[0;34m=\u001b[0m \u001b[0mself\u001b[0m\u001b[0;34m.\u001b[0m\u001b[0m_handle_result\u001b[0m\u001b[0;34m(\u001b[0m\u001b[0mself\u001b[0m\u001b[0;34m.\u001b[0m\u001b[0m_send_cmd\u001b[0m\u001b[0;34m(\u001b[0m\u001b[0mServerCmd\u001b[0m\u001b[0;34m.\u001b[0m\u001b[0mQUERY\u001b[0m\u001b[0;34m,\u001b[0m \u001b[0mquery\u001b[0m\u001b[0;34m)\u001b[0m\u001b[0;34m)\u001b[0m\u001b[0;34m\u001b[0m\u001b[0;34m\u001b[0m\u001b[0m\n\u001b[0m\u001b[1;32m    923\u001b[0m         \u001b[0;32mexcept\u001b[0m \u001b[0merrors\u001b[0m\u001b[0;34m.\u001b[0m\u001b[0mProgrammingError\u001b[0m \u001b[0;32mas\u001b[0m \u001b[0merr\u001b[0m\u001b[0;34m:\u001b[0m\u001b[0;34m\u001b[0m\u001b[0;34m\u001b[0m\u001b[0m\n\u001b[1;32m    924\u001b[0m             \u001b[0;32mif\u001b[0m \u001b[0merr\u001b[0m\u001b[0;34m.\u001b[0m\u001b[0merrno\u001b[0m \u001b[0;34m==\u001b[0m \u001b[0;36m3948\u001b[0m \u001b[0;32mand\u001b[0m\u001b[0;31m \u001b[0m\u001b[0;31m\\\u001b[0m\u001b[0;34m\u001b[0m\u001b[0;34m\u001b[0m\u001b[0m\n",
      "\u001b[0;32m~/opt/anaconda3/lib/python3.9/site-packages/mysql/connector/connection.py\u001b[0m in \u001b[0;36m_handle_result\u001b[0;34m(self, packet)\u001b[0m\n\u001b[1;32m    730\u001b[0m             \u001b[0;32mreturn\u001b[0m \u001b[0mself\u001b[0m\u001b[0;34m.\u001b[0m\u001b[0m_handle_eof\u001b[0m\u001b[0;34m(\u001b[0m\u001b[0mpacket\u001b[0m\u001b[0;34m)\u001b[0m\u001b[0;34m\u001b[0m\u001b[0;34m\u001b[0m\u001b[0m\n\u001b[1;32m    731\u001b[0m         \u001b[0;32melif\u001b[0m \u001b[0mpacket\u001b[0m\u001b[0;34m[\u001b[0m\u001b[0;36m4\u001b[0m\u001b[0;34m]\u001b[0m \u001b[0;34m==\u001b[0m \u001b[0;36m255\u001b[0m\u001b[0;34m:\u001b[0m\u001b[0;34m\u001b[0m\u001b[0;34m\u001b[0m\u001b[0m\n\u001b[0;32m--> 732\u001b[0;31m             \u001b[0;32mraise\u001b[0m \u001b[0merrors\u001b[0m\u001b[0;34m.\u001b[0m\u001b[0mget_exception\u001b[0m\u001b[0;34m(\u001b[0m\u001b[0mpacket\u001b[0m\u001b[0;34m)\u001b[0m\u001b[0;34m\u001b[0m\u001b[0;34m\u001b[0m\u001b[0m\n\u001b[0m\u001b[1;32m    733\u001b[0m \u001b[0;34m\u001b[0m\u001b[0m\n\u001b[1;32m    734\u001b[0m         \u001b[0;31m# We have a text result set\u001b[0m\u001b[0;34m\u001b[0m\u001b[0;34m\u001b[0m\u001b[0m\n",
      "\u001b[0;31mDatabaseError\u001b[0m: 1007 (HY000): Can't create database 'Blockbuster'; database exists"
     ]
    }
   ],
   "source": [
    "crea_db=conn.connect(host='localhost', user='root', passwd=password)    #No sirve\n",
    "\n",
    "cursor=crea_db.cursor()\n",
    "cursor.execute('create database Blockbuster;')"
   ]
  },
  {
   "cell_type": "code",
   "execution_count": 20,
   "id": "5717ab65",
   "metadata": {
    "scrolled": true
   },
   "outputs": [
    {
     "name": "stdout",
     "output_type": "stream",
     "text": [
      "('Blockbuster',)\n",
      "('DAFT_!',)\n",
      "('information_schema',)\n",
      "('lab_mysql',)\n",
      "('mysql',)\n",
      "('performance_schema',)\n",
      "('publications',)\n",
      "('sys',)\n"
     ]
    }
   ],
   "source": [
    "cursor.execute('show databases;')\n",
    "\n",
    "for x in cursor:\n",
    "    print(x)"
   ]
  },
  {
   "cell_type": "code",
   "execution_count": 48,
   "id": "08fe7f37",
   "metadata": {},
   "outputs": [],
   "source": [
    "file = open('password.txt','r').readlines()\n",
    "\n",
    "password = ''.join(file)"
   ]
  },
  {
   "cell_type": "code",
   "execution_count": 50,
   "id": "b657eacd",
   "metadata": {},
   "outputs": [
    {
     "data": {
      "text/plain": [
       "str"
      ]
     },
     "execution_count": 50,
     "metadata": {},
     "output_type": "execute_result"
    }
   ],
   "source": [
    "type(password)"
   ]
  },
  {
   "cell_type": "code",
   "execution_count": 51,
   "id": "52b2e177",
   "metadata": {},
   "outputs": [],
   "source": [
    "# conecta a una base de datos\n",
    "\n",
    "db=conn.connect(host='localhost', user='root', passwd= password, database='Blockbuster')\n",
    "\n",
    "cursor=db.cursor()"
   ]
  },
  {
   "cell_type": "markdown",
   "id": "8d192814",
   "metadata": {},
   "source": [
    "### Crear las \"perchas\" (tablas) de la BD"
   ]
  },
  {
   "cell_type": "code",
   "execution_count": null,
   "id": "0d91e3f3",
   "metadata": {},
   "outputs": [],
   "source": [
    "#las tablas se van a creat en una especie de dos bloques <film, inventory, old_HDD>\n",
    "#Segundo bloque <rental, language, category, actor>"
   ]
  },
  {
   "cell_type": "code",
   "execution_count": 24,
   "id": "2ce7f67f",
   "metadata": {},
   "outputs": [],
   "source": [
    "cursor.execute('drop table if exists film;')"
   ]
  },
  {
   "cell_type": "code",
   "execution_count": 26,
   "id": "08fdab21",
   "metadata": {},
   "outputs": [],
   "source": [
    "t_film='''\n",
    "\n",
    "    create table film (\n",
    "            \n",
    "            film_id int primary key,\n",
    "            title varchar(100),\n",
    "            description varchar(100),\n",
    "            release_year date,\n",
    "            language_id varchar(50),\n",
    "            last_update date\n",
    "        );\n",
    "'''\n",
    "\n",
    "cursor.execute(t_film)"
   ]
  },
  {
   "cell_type": "code",
   "execution_count": 29,
   "id": "216fb3f0",
   "metadata": {},
   "outputs": [],
   "source": [
    "cursor.execute('drop table if exists t_inventory;')"
   ]
  },
  {
   "cell_type": "code",
   "execution_count": 31,
   "id": "f3cbafd2",
   "metadata": {},
   "outputs": [],
   "source": [
    "\n",
    "t_inventory='''\n",
    "\n",
    "        create table t_inventory (\n",
    "            \n",
    "            film_id int primary key,\n",
    "            inventory_id varchar(100),\n",
    "            store_id varchar(1000),\n",
    "            last_update date\n",
    "        );\n",
    "    '''\n",
    "    \n",
    "cursor.execute(t_inventory)"
   ]
  },
  {
   "cell_type": "code",
   "execution_count": 32,
   "id": "28f5dd3f",
   "metadata": {},
   "outputs": [],
   "source": [
    "\n",
    "cursor.execute('drop table if exists t_rental;')\n",
    "t_rental= '''\n",
    "\n",
    "        create table t_rental (\n",
    "            \n",
    "            rental_id int primary key,\n",
    "            rental_date date,\n",
    "            inventory_id varchar(1000),\n",
    "            last_update date,\n",
    "            customer_id varchar(100),\n",
    "            return_date date,\n",
    "            staff_id varchar(20)\n",
    "        );\n",
    "'''\n",
    "    \n",
    "cursor.execute(t_rental)"
   ]
  },
  {
   "cell_type": "code",
   "execution_count": 33,
   "id": "d1c14adb",
   "metadata": {},
   "outputs": [],
   "source": [
    "\n",
    "cursor.execute('drop table if exists t_old_HDD;')\n",
    "t_old_HDD='''\n",
    "\n",
    "        create table t_old_HDD (\n",
    "            \n",
    "            title int primary key,\n",
    "            release_year date,\n",
    "            category_id varchar(5),\n",
    "            first_name varchar(50),\n",
    "            last_name varchar(100)\n",
    "        );\n",
    "'''\n",
    "\n",
    "cursor.execute(t_old_HDD)"
   ]
  },
  {
   "cell_type": "code",
   "execution_count": 35,
   "id": "f03b852d",
   "metadata": {},
   "outputs": [],
   "source": [
    "\n",
    "cursor.execute('drop table if exists t_language;')\n",
    "t_language= '''\n",
    "\n",
    "        create table t_language (\n",
    "            \n",
    "            language_id int primary key,\n",
    "            name varchar(100),\n",
    "            last_update date\n",
    "        );\n",
    "'''\n",
    "\n",
    "cursor.execute(t_language)"
   ]
  },
  {
   "cell_type": "code",
   "execution_count": 36,
   "id": "d82b2b76",
   "metadata": {},
   "outputs": [],
   "source": [
    "\n",
    "cursor.execute('drop table if exists t_category;')\n",
    "t_category='''\n",
    "\n",
    "        create table t_category (\n",
    "            \n",
    "            category_id int primary key,\n",
    "            last_update date,\n",
    "            name varchar(100)\n",
    "        );\n",
    "'''\n",
    "\n",
    "cursor.execute(t_category)"
   ]
  },
  {
   "cell_type": "code",
   "execution_count": 37,
   "id": "c88e30de",
   "metadata": {},
   "outputs": [],
   "source": [
    "cursor.execute('drop table if exists t_actor;')\n",
    "t_actor='''\n",
    "\n",
    "        create table t_actor (\n",
    "            \n",
    "            actor_id int primary key,\n",
    "            last_update date,\n",
    "            first_name varchar(100),\n",
    "            last_name varchar(100)\n",
    "        );\n",
    "'''\n",
    "cursor.execute(t_actor)\n"
   ]
  },
  {
   "cell_type": "markdown",
   "id": "f4329a95",
   "metadata": {},
   "source": [
    "### Subir datos a la base\n",
    "Tener en cuenta la estructura de datos para hacerlo"
   ]
  },
  {
   "cell_type": "code",
   "execution_count": null,
   "id": "cd86ab19",
   "metadata": {},
   "outputs": [],
   "source": [
    "#t_film, t_inventory, t_rental, t_actor, t_category, t_language, t_old_HDD\n",
    "#df.columns=['brand', 'color', 'size', 'price', 'url', 'ean']"
   ]
  },
  {
   "cell_type": "code",
   "execution_count": 55,
   "id": "4a38d076",
   "metadata": {},
   "outputs": [
    {
     "ename": "SyntaxError",
     "evalue": "f-string: expecting '}' (2573034545.py, line 10)",
     "output_type": "error",
     "traceback": [
      "\u001b[0;36m  File \u001b[0;32m\"/var/folders/bp/5cqvvvwn7p14588p725frs740000gn/T/ipykernel_38206/2573034545.py\"\u001b[0;36m, line \u001b[0;32m10\u001b[0m\n\u001b[0;31m    insert_query=f'insert into {nombre_tabla} ({columnas}) values {'/w3-Database-Project-main/data'/film.csv'};\u001b[0m\n\u001b[0m                                                                    ^\u001b[0m\n\u001b[0;31mSyntaxError\u001b[0m\u001b[0;31m:\u001b[0m f-string: expecting '}'\n"
     ]
    }
   ],
   "source": [
    "nombre_tabla='t_film'\n",
    "#/w3-Database-Project-main/data'/film.csv\n",
    "df.columns= film_id, title, description, release_year, language_id, last_update\n",
    "\n",
    "columnas=','.join(df.columns)\n",
    "\n",
    "for i in range(len(df)):\n",
    "    \n",
    "    valores=tuple(df.iloc[i].values)\n",
    "    \n",
    "    insert_query=f'insert into {nombre_tabla} ({columnas}) values {valores};'\n",
    "    \n",
    "    cursor.execute(insert_query)\n",
    "    \n",
    "    \n",
    "db.commit()     "
   ]
  },
  {
   "cell_type": "code",
   "execution_count": null,
   "id": "3c607369",
   "metadata": {},
   "outputs": [],
   "source": []
  },
  {
   "cell_type": "code",
   "execution_count": null,
   "id": "4f4ab890",
   "metadata": {},
   "outputs": [],
   "source": []
  }
 ],
 "metadata": {
  "kernelspec": {
   "display_name": "Python 3 (ipykernel)",
   "language": "python",
   "name": "python3"
  },
  "language_info": {
   "codemirror_mode": {
    "name": "ipython",
    "version": 3
   },
   "file_extension": ".py",
   "mimetype": "text/x-python",
   "name": "python",
   "nbconvert_exporter": "python",
   "pygments_lexer": "ipython3",
   "version": "3.9.7"
  }
 },
 "nbformat": 4,
 "nbformat_minor": 5
}
